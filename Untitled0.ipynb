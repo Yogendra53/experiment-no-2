{
  "nbformat": 4,
  "nbformat_minor": 0,
  "metadata": {
    "colab": {
      "name": "Untitled0.ipynb",
      "provenance": []
    },
    "kernelspec": {
      "name": "python3",
      "display_name": "Python 3"
    },
    "language_info": {
      "name": "python"
    }
  },
  "cells": [
    {
      "cell_type": "code",
      "execution_count": null,
      "metadata": {
        "id": "ELFAjFNhUVX6"
      },
      "outputs": [],
      "source": [
        ""
      ]
    },
    {
      "cell_type": "markdown",
      "source": [
        "write a program to demonsrate different number data types in python "
      ],
      "metadata": {
        "id": "Ul4npRRvUniS"
      }
    },
    {
      "cell_type": "code",
      "source": [
        "\n",
        "v = \"yogendra\"\n",
        "print(v)\n",
        "print(type(v))\n",
        "\n",
        "\n",
        "y = 30\n",
        "print(y)\n",
        "print(type(y)) \n",
        "\n",
        "\n",
        "v = 2\n",
        "\n",
        "#display v:\n",
        "print(v)\n",
        "\n",
        "#display the data type of v:\n",
        "print(type(v)) \n",
        "\n",
        "\n",
        "t = 2j\n",
        "\n",
        "#display t:\n",
        "print(t)\n",
        "\n",
        "#display the data type of t:\n",
        "print(type(t)) \n",
        "\n",
        "\n",
        "q = [\"horse\", \"dog\", \"cat\"]\n",
        "\n",
        "#display q:\n",
        "print(q)\n",
        "\n",
        "#display the data type of q:\n",
        "print(type(q)) \n",
        "\n",
        "t = (\"dog\", \"cat\", \"horse\")\n",
        "\n",
        "#display t:\n",
        "print(t)\n",
        "\n",
        "#display the data type of t:\n",
        "print(type(t))\n",
        "\n",
        "i = range(5)\n",
        "\n",
        "#display i:\n",
        "print(i)\n",
        "\n",
        "#display the data type of i:\n",
        "print(type(i))\n",
        "\n",
        "y = {\"name\" : \"harry\", \"weight\" : 50}\n",
        "\n",
        "#display y:\n",
        "print(y)\n",
        "\n",
        "#display the data type of y:\n",
        "print(type(y)) \n",
        "\n",
        "\n",
        "u = {\"horse\", \"cat\", \"dog\"}\n",
        "\n",
        "#display u:\n",
        "print(u)\n",
        "\n",
        "#display the data type of u:\n",
        "print(type(u))\n",
        "\n",
        "o = frozenset({\"dog\", \"cat\", \"horse\"})\n",
        "\n",
        "#display o:\n",
        "print(o)\n",
        "\n",
        "#display the data type of o:\n",
        "print(type(o)) \n",
        "\n",
        "\n",
        "j = True\n",
        "\n",
        "#display j:\n",
        "print(j)\n",
        "\n",
        "#display the data type of j:\n",
        "print(type(j))\n",
        "\n",
        "y = b\"Hello\"\n",
        "\n",
        "#display y:\n",
        "print(y)\n",
        "\n",
        "#display the data type of y:\n",
        "print(type(y)) \n",
        "\n",
        "o = bytearray(5)\n",
        "\n",
        "#display o:\n",
        "print(o)\n",
        "\n",
        "#display the data type of o:\n",
        "print(type(o))\n",
        "\n",
        "y = memoryview(bytes(5))\n",
        "\n",
        "#display y:\n",
        "print(y)\n",
        "\n",
        "#display the data type of y:\n",
        "print(type(y)) \n",
        "\n"
      ],
      "metadata": {
        "colab": {
          "base_uri": "https://localhost:8080/"
        },
        "id": "wCh7-XM-WGMi",
        "outputId": "00caed44-04f8-46a7-958e-c593693855fc"
      },
      "execution_count": 25,
      "outputs": [
        {
          "output_type": "stream",
          "name": "stdout",
          "text": [
            "yogendra\n",
            "<class 'str'>\n",
            "30\n",
            "<class 'int'>\n",
            "2\n",
            "<class 'int'>\n",
            "2j\n",
            "<class 'complex'>\n",
            "['horse', 'dog', 'cat']\n",
            "<class 'list'>\n",
            "('dog', 'cat', 'horse')\n",
            "<class 'tuple'>\n",
            "range(0, 5)\n",
            "<class 'range'>\n",
            "{'name': 'harry', 'weight': 50}\n",
            "<class 'dict'>\n",
            "{'cat', 'dog', 'horse'}\n",
            "<class 'set'>\n",
            "frozenset({'cat', 'dog', 'horse'})\n",
            "<class 'frozenset'>\n",
            "True\n",
            "<class 'bool'>\n",
            "b'Hello'\n",
            "<class 'bytes'>\n",
            "bytearray(b'\\x00\\x00\\x00\\x00\\x00')\n",
            "<class 'bytearray'>\n",
            "<memory at 0x7f2714697e20>\n",
            "<class 'memoryview'>\n"
          ]
        }
      ]
    },
    {
      "cell_type": "markdown",
      "source": [
        ""
      ],
      "metadata": {
        "id": "Nn4T2n5OWKyQ"
      }
    }
  ]
}